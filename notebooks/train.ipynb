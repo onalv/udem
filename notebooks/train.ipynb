{
 "cells": [
  {
   "cell_type": "code",
   "execution_count": null,
   "id": "1023eef1-166d-4558-b90c-e0a71fd9c2ba",
   "metadata": {},
   "outputs": [],
   "source": [
    "from joblib import dump\n",
    "from sklearn import datasets\n",
    "from sklearn.pipeline import Pipeline\n",
    "from sklearn.preprocessing import MinMaxScaler\n",
    "from sklearn.ensemble import GradientBoostingClassifier"
   ]
  },
  {
   "cell_type": "code",
   "execution_count": null,
   "id": "c237a83c-3101-4a2c-b1af-da61078586df",
   "metadata": {},
   "outputs": [],
   "source": [
    "iris = datasets.load_iris(return_X_y=True)\n",
    "y = iris[1]\n",
    "x = iris[0]"
   ]
  },
  {
   "cell_type": "code",
   "execution_count": null,
   "id": "719f9fec-ced3-4f55-9164-c63ad789a68f",
   "metadata": {},
   "outputs": [],
   "source": [
    "clf_pipeline = [('scaling', MinMaxScaler()), ('clf', GradientBoostingClassifier())]\n",
    "pipeline = Pipeline(clf_pipeline)"
   ]
  },
  {
   "cell_type": "code",
   "execution_count": null,
   "id": "f93d7b64-d7f4-455c-95ec-e15381892d3e",
   "metadata": {},
   "outputs": [],
   "source": [
    "pipeline.fit(x, y)"
   ]
  },
  {
   "cell_type": "code",
   "execution_count": null,
   "id": "1e6111dc-6419-4b56-8880-a15ec86b1e32",
   "metadata": {},
   "outputs": [],
   "source": [
    "dump(pipeline, '../app/models/iris_model.joblib')"
   ]
  },
  {
   "cell_type": "code",
   "execution_count": null,
   "id": "82b9edea-5ab6-4ba2-8f28-cf0c2c00fa1d",
   "metadata": {},
   "outputs": [],
   "source": []
  }
 ],
 "metadata": {
  "kernelspec": {
   "display_name": "Python 3 (ipykernel)",
   "language": "python",
   "name": "python3"
  },
  "language_info": {
   "codemirror_mode": {
    "name": "ipython",
    "version": 3
   },
   "file_extension": ".py",
   "mimetype": "text/x-python",
   "name": "python",
   "nbconvert_exporter": "python",
   "pygments_lexer": "ipython3",
   "version": "3.9.13"
  },
  "vscode": {
   "interpreter": {
    "hash": "31f2aee4e71d21fbe5cf8b01ff0e069b9275f58929596ceb00d14d90e3e16cd6"
   }
  }
 },
 "nbformat": 4,
 "nbformat_minor": 5
}
